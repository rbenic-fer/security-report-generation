{
  "nbformat": 4,
  "nbformat_minor": 0,
  "metadata": {
    "colab": {
      "name": "aitextgen-CCS-124M-2000-lr6",
      "provenance": [],
      "collapsed_sections": []
    },
    "kernelspec": {
      "name": "python3",
      "display_name": "Python 3"
    },
    "accelerator": "GPU"
  },
  "cells": [
    {
      "cell_type": "markdown",
      "metadata": {
        "id": "H7LoMj4GA4n_"
      },
      "source": [
        "#  aitextgen — Train a GPT-2 (or GPT Neo) Text-Generating Model w/ GPU\n",
        "\n",
        "by [Max Woolf](https://minimaxir.com)\n",
        "\n",
        "*Last updated: May 16th, 2021 (aitextgen v0.5.2)*\n",
        "\n",
        "Retrain an advanced text generating neural network on any text dataset **for free on a GPU using Colaboratory** using `aitextgen`!\n",
        "\n",
        "For more about `aitextgen`, you can visit [this GitHub repository](https://github.com/minimaxir/aitextgen) or [read the documentation](https://docs.aitextgen.io/).\n",
        "\n",
        "\n",
        "To get started:\n",
        "\n",
        "1. Copy this notebook to your Google Drive to keep it and save your changes. (File -> Save a Copy in Drive)\n",
        "2. Run the cells below:\n"
      ]
    },
    {
      "cell_type": "code",
      "metadata": {
        "id": "KBkpRgBCBS2_"
      },
      "source": [
        "!pip install -q aitextgen"
      ],
      "execution_count": null,
      "outputs": []
    },
    {
      "cell_type": "code",
      "metadata": {
        "id": "k3OamNzFToxk"
      },
      "source": [
        "import aitextgen\n",
        "import datetime\n",
        "import gc\n",
        "import logging\n",
        "import os\n",
        "import requests\n",
        "import torch"
      ],
      "execution_count": null,
      "outputs": []
    },
    {
      "cell_type": "code",
      "metadata": {
        "id": "hVYewreNaK6I"
      },
      "source": [
        "session_url = 'http://172.28.0.2:9000/api/sessions'\n",
        "notebook_name = requests.get(session_url).json()[0]['name']\n",
        "\n",
        "run_datetime = datetime.datetime.now().strftime('%Y-%m-%d-%H-%M-%S')\n",
        "run_id = notebook_name + '_run_' + run_datetime"
      ],
      "execution_count": null,
      "outputs": []
    },
    {
      "cell_type": "code",
      "metadata": {
        "id": "c-ypL8bATo3z"
      },
      "source": [
        "log_format = '%(asctime)s — %(levelname)s — %(name)s — %(message)s'\n",
        "date_format = '%d/%m/%Y %H:%M:%S'\n",
        "log_level = logging.DEBUG\n",
        "\n",
        "logging.basicConfig(format=log_format, datefmt=date_format, level=log_level)"
      ],
      "execution_count": null,
      "outputs": []
    },
    {
      "cell_type": "markdown",
      "metadata": {
        "id": "Bj2IJLHP3KwE"
      },
      "source": [
        "## GPU\n",
        "\n",
        "Colaboratory uses a Nvidia P4, an Nvidia T4, an Nvidia P100, or an Nvidia V100. For finetuning GPT-2 124M, any of these GPUs will be fine, but for text generation, a T4 or a P100 is ideal since they have more VRAM. **If you receive a T4 or a V100 GPU, you can enable `fp16=True` during training for faster/more memory efficient training.**\n",
        "\n",
        "You can verify which GPU is active by running the cell below. If you want to try for a different GPU, go to **Runtime -> Factory Reset Runtime**."
      ]
    },
    {
      "cell_type": "code",
      "metadata": {
        "id": "sUmTooTW3osf"
      },
      "source": [
        "!nvidia-smi"
      ],
      "execution_count": null,
      "outputs": []
    },
    {
      "cell_type": "markdown",
      "metadata": {
        "id": "N8KXuKWzQSsN"
      },
      "source": [
        "## Mounting Google Drive\n",
        "\n",
        "The best way to get input text to-be-trained into the Colaboratory VM, and to get the trained model *out* of Colaboratory, is to route it through Google Drive *first*.\n",
        "\n",
        "Running this cell (which will only work in Colaboratory) will mount your personal Google Drive in the VM, which later cells can use to get data in/out. (it will ask for an auth code; that auth is not saved anywhere)"
      ]
    },
    {
      "cell_type": "code",
      "metadata": {
        "id": "puq4iC6vUAHc"
      },
      "source": [
        "aitextgen.colab.mount_gdrive()"
      ],
      "execution_count": null,
      "outputs": []
    },
    {
      "cell_type": "code",
      "metadata": {
        "id": "K4_fMygRVH6K"
      },
      "source": [
        "gdrive_root_dir = '/content/drive/My Drive'"
      ],
      "execution_count": null,
      "outputs": []
    },
    {
      "cell_type": "markdown",
      "metadata": {
        "id": "pel-uBULXO2L"
      },
      "source": [
        "\n",
        "## Load a Trained Model\n",
        "\n",
        "If you already had a trained model from this notebook, running the next cell will copy the `pytorch_model.bin` and the `config.json`file from the specified folder in Google Drive into the Colaboratory VM. (If no `from_folder` is specified, it assumes the two files are located at the root level of your Google Drive)"
      ]
    },
    {
      "cell_type": "code",
      "source": [
        "#load_model = None\n",
        "load_model = 'aitextgen-CCS-9000-1000_run_2022-05-20-14-41-07/partial/articles_trainrun-5'"
      ],
      "metadata": {
        "id": "ql7fWdmTCG0u"
      },
      "execution_count": null,
      "outputs": []
    },
    {
      "cell_type": "code",
      "metadata": {
        "id": "Pf1u5JswEShh"
      },
      "source": [
        "if load_model is not None:\n",
        "    model_load_dir = gdrive_root_dir + '/aitextgen/models/' + load_model\n",
        "    ai = aitextgen.aitextgen(model_folder=model_load_dir, to_gpu=True)"
      ],
      "execution_count": null,
      "outputs": []
    },
    {
      "cell_type": "markdown",
      "metadata": {
        "id": "RTa6zf3e_9gV"
      },
      "source": [
        "The next cell will allow you to load the retrained model + metadata necessary to generate text."
      ]
    },
    {
      "cell_type": "markdown",
      "metadata": {
        "id": "trRhgNvsH4Wn"
      },
      "source": [
        "## Loading GPT-2 or GPT Neo\n",
        "\n",
        "If you're retraining a model on new text, you need to download and load the GPT-2 model into the GPU. \n",
        "\n",
        "There are several sizes of GPT-2:\n",
        "\n",
        "* `124M` (default): the \"small\" model, 500MB on disk.\n",
        "* `355M` (default): the \"medium\" model, 1.5GB on disk.\n",
        "* `774M` (default): the \"large\" model, 3GB on disk.\n",
        "\n",
        "You can also finetune a GPT Neo model instead, which is more suitable for longer texts and the base model has more recent data:\n",
        "\n",
        "* `125M`: Analogous to the GPT-2 124M model.\n",
        "* `350M`: Analogous to the GPT-2 355M model\n",
        "\n",
        "The next cell downloads the model and saves it in the Colaboratory VM. If the model has already been downloaded, running this cell will reload it."
      ]
    },
    {
      "cell_type": "code",
      "source": [
        "model='124M'\n",
        "#model='355M'\n",
        "#model='774M'\n",
        "\n",
        "#model='gpt-neo-125M'\n",
        "#model='gpt-neo-350M'"
      ],
      "metadata": {
        "id": "5R0DI2QeOg9f"
      },
      "execution_count": null,
      "outputs": []
    },
    {
      "cell_type": "code",
      "metadata": {
        "id": "flqSlHjMIeIw"
      },
      "source": [
        "if load_model is None:\n",
        "    if model == '124M' or model == '355M' or model == '774M':\n",
        "        ai = aitextgen.aitextgen(tf_gpt2=model, to_gpu=True)\n",
        "    else:\n",
        "        ai = aitextgen.aitextgen(model='EleutherAI/' + model, to_gpu=True)"
      ],
      "execution_count": null,
      "outputs": []
    },
    {
      "cell_type": "markdown",
      "metadata": {
        "id": "BT__brhBCvJu"
      },
      "source": [
        "## Uploading a Text File to be Trained to Colaboratory\n",
        "\n",
        "In the Colaboratory Notebook sidebar on the left of the screen, select *Files*. From there you can upload files:\n",
        "\n",
        "![alt text](https://i.imgur.com/w3wvHhR.png)\n",
        "\n",
        "Upload **any smaller text file** (for example, [a text file of Shakespeare plays](https://raw.githubusercontent.com/karpathy/char-rnn/master/data/tinyshakespeare/input.txt)) and update the file name in the cell below, then run the cell."
      ]
    },
    {
      "cell_type": "code",
      "metadata": {
        "id": "6OFnPCLADfll"
      },
      "source": [
        "data_root_dir = gdrive_root_dir + '/aitextgen/training_data'\n",
        "datasets = ['meta_reports_combined']\n",
        "dataset_splits = [1]\n",
        "dataset_iterations = [200]\n",
        "dataset_runs = [20]\n",
        "dataset_learnrates = [1e-6]\n",
        "save_partial = True\n",
        "\n",
        "file_basename = 'dataset_cache'\n",
        "file_ext = '.tar.gz'\n",
        "from_cache = True"
      ],
      "execution_count": null,
      "outputs": []
    },
    {
      "cell_type": "markdown",
      "metadata": {
        "id": "HeeSKtNWUedE"
      },
      "source": [
        "If your text file is large (>10MB), it is recommended to upload that file to Google Drive first, then copy that file from Google Drive to the Colaboratory VM.\n",
        "\n",
        "Additionally, you may want to consider [compressing the dataset to a cache first](https://docs.aitextgen.io/dataset/) on your local computer, then uploading the resulting `dataset_cache.tar.gz` and setting the `file_name`in the previous cell to that."
      ]
    },
    {
      "cell_type": "markdown",
      "metadata": {
        "id": "LdpZQXknFNY3"
      },
      "source": [
        "## Finetune GPT-2\n",
        "\n",
        "The next cell will start the actual finetuning of GPT-2 in aitextgen. It runs for `num_steps`, and a progress bar will appear to show training progress, current loss (the lower the better the model), and average loss (to give a sense on loss trajectory).\n",
        "\n",
        "The model will be saved every `save_every` steps in `trained_model` by default, and when training completes. If you mounted your Google Drive, the model will _also_ be saved there in a unique folder.\n",
        "\n",
        "The training might time out after 4ish hours; if you did not mount to Google Drive, make sure you end training and save the results so you don't lose them! (if this happens frequently, you may want to consider using [Colab Pro](https://colab.research.google.com/signup))\n",
        "\n",
        "Important parameters for `train()`:\n",
        "\n",
        "- **`line_by_line`**: Set this to `True` if the input text file is a single-column CSV, with one record per row. aitextgen will automatically process it optimally.\n",
        "- **`from_cache`**: If you compressed your dataset locally (as noted in the previous section) and are using that cache file, set this to `True`.\n",
        "- **`num_steps`**: Number of steps to train the model for.\n",
        "- **`generate_every`**: Interval of steps to generate example text from the model; good for qualitatively validating training.\n",
        "- **`save_every`**: Interval of steps to save the model: the model will be saved in the VM to `/trained_model`.\n",
        "- **`save_gdrive`**: Set this to `True` to copy the model to a unique folder in your Google Drive, if you have mounted it in the earlier cells\n",
        "- **`fp16`**: Enables half-precision training for faster/more memory-efficient training. Only works on a T4 or V100 GPU.\n",
        "\n",
        "Here are other important parameters for `train()` that are useful but you likely do not need to change.\n",
        "\n",
        "- **`learning_rate`**: Learning rate of the model training.\n",
        "- **`batch_size`**: Batch size of the model training; setting it too high will cause the GPU to go OOM. (if using `fp16`, you can increase the batch size more safely)"
      ]
    },
    {
      "cell_type": "code",
      "source": [
        "model_root_dir = gdrive_root_dir + '/aitextgen/models/' + run_id\n",
        "\n",
        "if save_partial:\n",
        "    model_partial_dir = model_root_dir + '/partial'\n",
        "    partial_models = []"
      ],
      "metadata": {
        "id": "LeWOauDNKzVs"
      },
      "execution_count": null,
      "outputs": []
    },
    {
      "cell_type": "code",
      "metadata": {
        "id": "aeXshJM-Cuaf"
      },
      "source": [
        "for i in range(len(datasets)):\n",
        "    file_basepath = data_root_dir + '/' + datasets[i] + '/' + file_basename\n",
        "\n",
        "    for j in range(dataset_runs[i]):\n",
        "        if save_partial and (i < len(datasets) - 1 or j < dataset_runs[i] - 1):\n",
        "            partial_model_name = datasets[i] + '_trainrun-' + str(j + 1)\n",
        "            model_dir = model_partial_dir + '/' + partial_model_name\n",
        "            partial_models.append(partial_model_name)\n",
        "        else:\n",
        "            model_dir = model_root_dir\n",
        "\n",
        "        for k in range(dataset_splits[i]):\n",
        "            if dataset_splits[i] > 1:\n",
        "                current_file = file_basepath + '.' + str(k) + file_ext\n",
        "            else:\n",
        "                current_file = file_basepath + file_ext\n",
        "            ai.train(current_file,\n",
        "                     line_by_line=False,\n",
        "                     from_cache=from_cache,\n",
        "                     num_steps=dataset_iterations[i],\n",
        "                     generate_every=dataset_iterations[i],\n",
        "                     save_every=dataset_iterations[i],\n",
        "                     save_gdrive=False,\n",
        "                     run_id=run_id,\n",
        "                     output_dir=model_dir,\n",
        "                     learning_rate=dataset_learnrates[i],\n",
        "                     fp16=False,\n",
        "                     batch_size=1)\n",
        "\n",
        "            # R.B.: required to prevent memory leaks in Colab\n",
        "            gc.collect()"
      ],
      "execution_count": null,
      "outputs": []
    },
    {
      "cell_type": "markdown",
      "metadata": {
        "id": "qQJgV_b4bmzd"
      },
      "source": [
        "You're done! Feel free to go to the **Generate Text From The Trained Model** section to generate text based on your retrained model."
      ]
    },
    {
      "cell_type": "markdown",
      "metadata": {
        "id": "ClJwpF_ACONp"
      },
      "source": [
        "## Generate Text From The Trained Model\n",
        "\n",
        "After you've trained the model or loaded a retrained model from checkpoint, you can now generate text.\n",
        "\n",
        "**If you just trained a model**, you'll get much faster training performance if you reload the model; the next cell will reload the model you just trained from the `trained_model` folder."
      ]
    },
    {
      "cell_type": "markdown",
      "metadata": {
        "id": "3cd0RGDbJiDp"
      },
      "source": [
        "`generate()` without any parameters generates a single text from the loaded model to the console."
      ]
    },
    {
      "cell_type": "markdown",
      "metadata": {
        "id": "oF4-PqF0Fl7R"
      },
      "source": [
        "If you're creating an API based on your model and need to pass the generated text elsewhere, you can do `text = ai.generate_one()`\n",
        "\n",
        "You can also pass in a `prompt` to the generate function to force the text to start with a given character sequence and generate text from there (good if you add an indicator when the text starts).\n",
        "\n",
        "You can also generate multiple texts at a time by specifing `n`. You can pass a `batch_size` to generate multiple samples in parallel, giving a massive speedup (in Colaboratory, set a maximum of 50 for `batch_size` to avoid going OOM).\n",
        "\n",
        "Other optional-but-helpful parameters for `ai.generate()` and friends:\n",
        "\n",
        "*  **`min length`**: The minimum length of the generated text: if the text is shorter than this value after cleanup, aitextgen will generate another one.\n",
        "*  **`max_length`**: Number of tokens to generate (default 256, you can generate up to 1024 tokens with GPT-2 and 2048 with GPT Neo)\n",
        "* **`temperature`**: The higher the temperature, the crazier the text (default 0.7, recommended to keep between 0.7 and 1.0)\n",
        "* **`top_k`**: Limits the generated guesses to the top *k* guesses (default 0 which disables the behavior; if the generated output is super crazy, you may want to set `top_k=40`)\n",
        "* **`top_p`**: Nucleus sampling: limits the generated guesses to a cumulative probability. (gets good results on a dataset with `top_p=0.9`)"
      ]
    },
    {
      "cell_type": "markdown",
      "metadata": {
        "id": "zjjEN2Tafhl2"
      },
      "source": [
        "For bulk generation, you can generate a large amount of texts to a file and sort out the samples locally on your computer. The next cell will generate `num_files` files, each with `n` texts and whatever other parameters you would pass to `generate()`. The files can then be downloaded from the Files sidebar!\n",
        "\n",
        "You can rerun the cells as many times as you want for even more generated texts!"
      ]
    },
    {
      "cell_type": "code",
      "source": [
        "num_outputs = 5\n",
        "max_length = 1000\n",
        "temperature = 1.0\n",
        "top_p = 0.9\n",
        "\n",
        "prompts = ['Digital Forensics Analysis Report\\n',\n",
        "           'This report is ',\n",
        "           'The contents of ',\n",
        "           'Conclusion\\n',\n",
        "           'It is recommended that ',\n",
        "           'In the opinion of the expert, ',\n",
        "           'File \\'Exploit_Office\\' contains ',\n",
        "           'File \\'Exploit_Office\\' does not contain ',\n",
        "           'Website \\'Webmail SquirrelMail\\' contains ',\n",
        "           'Website \\'Webmail SquirrelMail\\' does not contain ',\n",
        "           'Bill Due to past contains a link \\'https://genom.mefst.hr/webmail/src/login.php\\' to a website \\'Webmail SquirrelMail\\'.',\n",
        "           'New Dogecoin Crypto Sale contains a link \\'http://webmail.forumofthemall.hr/mail/loging.php\\' to a website \\'Webmail SquirrelMail Popular Forum\\'.',\n",
        "           'New OneCoin Crypto Sale contains a link \\'http://',\n",
        "           'Note of eviction contains ',\n",
        "           'Note of eviction contains attachment ',\n",
        "           'Note of eviction contains attachment \\'Exploit_Office\\'. Attachment is quarantined on \\'Mail server EP\\'.',\n",
        "           'Log entry found: ',\n",
        "           'Log entry found: Firewall (Type: Firewall) ',\n",
        "           'Log entry found: Firewall (Type: Firewall) detected. [Allowed network traffic protocol ',\n",
        "           'Log entry found: Firewall (Type: Firewall) blocked. [Blocked network traffic protocol ',\n",
        "           'Log entry found: Firewall (Type: Firewall) detected. [Allowed network traffic protocol \\'smtp:25\\' from \\'server74.aws.com\\' to \\'Mail server EP\\'. Rule \\'Internet_to_Mail_Server\\'.]',\n",
        "           'Log entry found: Firewall (Type: Firewall) detected. [Allowed network traffic protocol \\'https:443\\' from \\'Proxy server\\' to \\'server74.aws.com\\'. Rule \\'Proxy_to_Internet, https:443\\'.]',\n",
        "           'Log entry found: Firewall (Type: Firewall) blocked. [Blocked network traffic protocol \\'https:443\\' from \\'PCSZT03\\' to \\'Firewall TSO Enterprise\\'.]',\n",
        "           'Log analysis on ',\n",
        "           'Log analysis on \\'Firewall TSO Enterprise\\' for period 1.1.2022. 0:00:00 - 4.2.2022. 13:50:44 finished. Report is ready.']"
      ],
      "metadata": {
        "id": "CxZfHlURP6Yx"
      },
      "execution_count": null,
      "outputs": []
    },
    {
      "cell_type": "code",
      "source": [
        "generate_partial_outputs = True\n",
        "\n",
        "num_outputs_partial = 2\n",
        "max_length_partial = 500\n",
        "prompts_partial = ['Digital Forensics Analysis Report\\n',\n",
        "                   'This report is ',\n",
        "                   'The contents of ',\n",
        "                   'Conclusion\\n']"
      ],
      "metadata": {
        "id": "CbbyCTx3jOy8"
      },
      "execution_count": null,
      "outputs": []
    },
    {
      "cell_type": "code",
      "source": [
        "output_root_dir = gdrive_root_dir + '/aitextgen/outputs/' + run_id\n",
        "output_ext = '.txt'\n",
        "\n",
        "if not os.path.exists(output_root_dir):\n",
        "    os.makedirs(output_root_dir)"
      ],
      "metadata": {
        "id": "QR-WDqL2Xldj"
      },
      "execution_count": null,
      "outputs": []
    },
    {
      "cell_type": "code",
      "metadata": {
        "id": "9QvlqQM7DrRk"
      },
      "source": [
        "if save_partial and generate_partial_outputs:\n",
        "    output_partial_dir = output_root_dir + '/partial'\n",
        "\n",
        "    for i in partial_models:\n",
        "        model_dir = model_partial_dir + '/' + i\n",
        "        ai = aitextgen.aitextgen(model_folder=model_dir, to_gpu=True)\n",
        "\n",
        "        output_dir = output_partial_dir + '/' + i\n",
        "        partial_id = run_id + '_partial_' + i\n",
        "        output_basepath = output_dir + '/' + partial_id + '_output'\n",
        "\n",
        "        if not os.path.exists(output_dir):\n",
        "            os.makedirs(output_dir)\n",
        "\n",
        "        for j in range(len(prompts_partial)):\n",
        "            if len(prompts_partial) > 1:\n",
        "                current_output = output_basepath + '.' + str(j) + output_ext\n",
        "            else:\n",
        "                current_output = output_basepath + output_ext\n",
        "            ai.generate_to_file(n=num_outputs_partial,\n",
        "                                batch_size=1,\n",
        "                                prompt=prompts_partial[j],\n",
        "                                max_length=max_length_partial,\n",
        "                                temperature=temperature,\n",
        "                                top_p=top_p,\n",
        "                                destination_path=current_output)"
      ],
      "execution_count": null,
      "outputs": []
    },
    {
      "cell_type": "code",
      "metadata": {
        "id": "Fa6p6arifSL0"
      },
      "source": [
        "if len(datasets) > 0:\n",
        "    ai = aitextgen.aitextgen(model_folder=model_root_dir, to_gpu=True)\n",
        "\n",
        "output_basepath = output_root_dir + '/' + run_id + '_output'\n",
        "\n",
        "for i in range(len(prompts)):\n",
        "    if len(prompts) > 1:\n",
        "        current_output = output_basepath + '.' + str(i) + output_ext\n",
        "    else:\n",
        "        current_output = output_basepath + output_ext\n",
        "    ai.generate_to_file(n=num_outputs,\n",
        "                        batch_size=1,\n",
        "                        prompt=prompts[i],\n",
        "                        max_length=max_length,\n",
        "                        temperature=temperature,\n",
        "                        top_p=top_p,\n",
        "                        destination_path=current_output)"
      ],
      "execution_count": null,
      "outputs": []
    },
    {
      "cell_type": "markdown",
      "metadata": {
        "id": "wmTXWNUygS5E"
      },
      "source": [
        "# LICENSE\n",
        "\n",
        "MIT License\n",
        "\n",
        "Copyright (c) 2020-2021 Max Woolf\n",
        "\n",
        "Permission is hereby granted, free of charge, to any person obtaining a copy\n",
        "of this software and associated documentation files (the \"Software\"), to deal\n",
        "in the Software without restriction, including without limitation the rights\n",
        "to use, copy, modify, merge, publish, distribute, sublicense, and/or sell\n",
        "copies of the Software, and to permit persons to whom the Software is\n",
        "furnished to do so, subject to the following conditions:\n",
        "\n",
        "The above copyright notice and this permission notice shall be included in all\n",
        "copies or substantial portions of the Software.\n",
        "\n",
        "THE SOFTWARE IS PROVIDED \"AS IS\", WITHOUT WARRANTY OF ANY KIND, EXPRESS OR\n",
        "IMPLIED, INCLUDING BUT NOT LIMITED TO THE WARRANTIES OF MERCHANTABILITY,\n",
        "FITNESS FOR A PARTICULAR PURPOSE AND NONINFRINGEMENT. IN NO EVENT SHALL THE\n",
        "AUTHORS OR COPYRIGHT HOLDERS BE LIABLE FOR ANY CLAIM, DAMAGES OR OTHER\n",
        "LIABILITY, WHETHER IN AN ACTION OF CONTRACT, TORT OR OTHERWISE, ARISING FROM,\n",
        "OUT OF OR IN CONNECTION WITH THE SOFTWARE OR THE USE OR OTHER DEALINGS IN THE\n",
        "SOFTWARE."
      ]
    }
  ]
}